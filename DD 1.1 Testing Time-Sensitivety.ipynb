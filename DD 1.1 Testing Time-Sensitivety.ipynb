{
 "cells": [
  {
   "cell_type": "markdown",
   "metadata": {},
   "source": [
    "# Importing"
   ]
  },
  {
   "cell_type": "code",
   "execution_count": 3,
   "metadata": {},
   "outputs": [],
   "source": [
    "import datetime\n",
    "\n",
    "from bs4 import BeautifulSoup\n",
    "import requests\n",
    "from urllib.request import urlopen\n",
    "\n",
    "import pandas as pd\n",
    "from pandas_datareader import data\n",
    "\n",
    "from scipy.signal import savgol_filter\n",
    "import statsmodels\n",
    "import statsmodels.api as sm\n",
    "import scipy.stats as stats\n",
    "import scipy.optimize as optimize\n",
    "import numpy as np\n",
    "#from mpl_finance import candlestick_ohlc\n",
    "import matplotlib.pyplot as plt\n",
    "#For the usual plots!\n",
    "#matplotlib inline\n",
    "#Makes graphs in jupyter interactive!\n",
    "%matplotlib widget\n",
    "\n",
    "tickers = ['SPY', 'AAPL', 'MSFT', 'PYPL', 'ISRG', 'GM', 'KODK', 'INTC', 'PANW']\n",
    "\n",
    "#Removing warnings\n",
    "import warnings\n",
    "warnings.filterwarnings('ignore')"
   ]
  },
  {
   "cell_type": "code",
   "execution_count": 4,
   "metadata": {},
   "outputs": [],
   "source": [
    "plt.close('all')\n",
    "\n",
    "def stock_data(startd, endd, tickers):\n",
    "    df = data.DataReader(tickers, 'yahoo', startd, endd).reset_index()\n",
    "#df.set_index('Date', inplace=True)            <-- weggehaald zodat polyfit en backtest \"i-1\" werken\n",
    "#uitrekenen van de daily return (cert)\n",
    "    for ticker in tickers:\n",
    "        df[('Return', ticker)] = df[('Close', ticker)].shift(1) - df[('Close', ticker)] \n",
    "    for ticker in tickers:\n",
    "        df[('Percent_return', ticker)] = df[('Close', ticker)].pct_change()\n",
    "    return df\n",
    "\n",
    "def smoothing_sma_savgol(SMA, tickers):\n",
    "    x = SMA.replace('SMA', '')\n",
    "    x = int(x)\n",
    "    for t in tickers:\n",
    "        savgol_len = len(dfsma[(SMA + '_change', t)].dropna())\n",
    "        if (savgol_len % 2) == 0:\n",
    "            savgol_len += 1\n",
    "            if (savgol_len % 2) != 0:\n",
    "                return savgol_len\n",
    "            else:\n",
    "                continue\n",
    "    #No real rules for polyorder, just use what fits best for its purpose!\n",
    "        savgol = savgol_filter(dfsma[(SMA + '_change', t)].dropna(), savgol_len, polyorder=100)\n",
    "        insert_len =  len(dfsma[(SMA + '_change', t)]) - len(savgol)\n",
    "        savgol = np.insert(savgol, 0, np.zeros(insert_len) + np.nan)\n",
    "        savgol = pd.Series(savgol, index=dfsma.index)\n",
    "        dfsma[(SMA + '_change_smooth_savgol', t)] = savgol\n",
    "    \n",
    "def polyfit_df(tickers, df):\n",
    "    dftemp = df.copy()\n",
    "    for t in tickers:\n",
    "        result = np.polyfit(dftemp[('Percent_return', t)].dropna().index, dftemp[('Percent_return', t)].dropna(), 50)\n",
    "        poly_eq = np.poly1d(result)\n",
    "        dftemp[('Polyfit', t)] = poly_eq(dftemp.index)\n",
    "    dftemp = dftemp.reset_index()\n",
    "    return dftemp\n",
    "\n",
    "def smoothing_sma_sma(SMA, tickers):\n",
    "    x = SMA.replace('SMA', '')\n",
    "    x = int(x)\n",
    "    for t in tickers:\n",
    "        dfsma[(SMA + '_change_smooth_sma', t)] = dfsma[(SMA + '_change', t)].rolling(x).mean()\n",
    "        \n",
    "def smoothing_sma_ema(SMA, tickers):\n",
    "    x = SMA.replace('SMA', '')\n",
    "    x = int(x)\n",
    "    for t in tickers:\n",
    "        dfsma[(SMA + '_change_smooth_ema', t)] = dfsma[(SMA + '_change', t)].ewm(span=x, adjust=False).mean()"
   ]
  },
  {
   "cell_type": "markdown",
   "metadata": {},
   "source": [
    "# Moving Averages"
   ]
  },
  {
   "cell_type": "code",
   "execution_count": 5,
   "metadata": {
    "scrolled": true
   },
   "outputs": [],
   "source": [
    "startd = datetime.datetime(2019, 1, 1) \n",
    "endd = datetime.datetime(2020, 1, 1)\n",
    "df = stock_data(startd, endd, tickers)\n",
    "dfsma = df.copy()   \n",
    "\n",
    "for t in tickers:\n",
    "    dfsma[('SMA10', t)] = dfsma[('Close', t)].rolling(10).mean()\n",
    "    dfsma[('SMA20', t)] = dfsma[('Close', t)].rolling(20).mean()\n",
    "    dfsma[('SMA50', t)] = dfsma[('Close', t)].rolling(50).mean()\n",
    "    dfsma[('SMA100', t)] = dfsma[('Close', t)].rolling(100).mean()\n",
    "    dfsma[('SMA200', t)] = dfsma[('Close', t)].rolling(200).mean()\n",
    "    dfsma[('SMA10_change', t)] = dfsma[('SMA20', t)].pct_change()\n",
    "    dfsma[('SMA20_change', t)] = dfsma[('SMA20', t)].pct_change()\n",
    "    dfsma[('SMA50_change', t)] = dfsma[('SMA50', t)].pct_change()\n",
    "    dfsma[('SMA100_change', t)] = dfsma[('SMA100', t)].pct_change()\n",
    "    dfsma[('SMA200_change', t)] = dfsma[('SMA200', t)].pct_change()\n",
    "\n",
    "#The fuction: https://docs.scipy.org/doc/scipy/reference/generated/scipy.signal.savgol_filter.html\n",
    "#Explanantion: https://stackoverflow.com/questions/20618804/how-to-smooth-a-curve-in-the-right-way\n",
    "SMA = ['SMA10', 'SMA20', 'SMA50', 'SMA100', 'SMA200']\n",
    "smoothing_sma_savgol(SMA[0], tickers) \n",
    "smoothing_sma_savgol(SMA[1], tickers)\n",
    "smoothing_sma_savgol(SMA[2], tickers)\n",
    "smoothing_sma_savgol(SMA[3], tickers)\n",
    "smoothing_sma_savgol(SMA[4], tickers)\n",
    "smoothing_sma_sma(SMA[0], tickers)\n",
    "smoothing_sma_sma(SMA[1], tickers)\n",
    "smoothing_sma_sma(SMA[2], tickers)\n",
    "smoothing_sma_sma(SMA[3], tickers)\n",
    "smoothing_sma_ema(SMA[0], tickers)\n",
    "smoothing_sma_ema(SMA[1], tickers)\n",
    "smoothing_sma_ema(SMA[2], tickers)"
   ]
  },
  {
   "cell_type": "markdown",
   "metadata": {},
   "source": [
    "# Curve Fitting Time-sensitivity"
   ]
  },
  {
   "cell_type": "markdown",
   "metadata": {},
   "source": [
    "Wat valt op:\n",
    "\n",
    "-De percent_return geeft een beter return dan als ik SMA gebruik als basis! -> Check dit in DD detailed\n",
    "    !!!!!\n",
    "\n",
    "-Test polyfit op SMA. lijkt erop dat SMA30 het beste werkt qua time-sensitivity (hoe langer de SMA hoe accurater).\n",
    "     \n",
    "     IDEE: Miss  moet ik steeds dagen bij dezelfde fataframe optellen, maar dan de orginele output houden?/Steeds de return berekenen!"
   ]
  },
  {
   "cell_type": "code",
   "execution_count": 44,
   "metadata": {
    "scrolled": false
   },
   "outputs": [
    {
     "name": "stdout",
     "output_type": "stream",
     "text": [
      "14:49:01.236330\n",
      "300:   14:49:06.029439\n",
      "500:   14:49:08.981478\n",
      "\n",
      "length of the last dataframe (Polyfit805) is: 805\n",
      "Time when finished:                   14:49:13.602289\n"
     ]
    }
   ],
   "source": [
    "#15; + resid; 5\n",
    "\n",
    "start_time = datetime.datetime.now().time()\n",
    "print(start_time)\n",
    "def polyfit_df(tickers, df):\n",
    "    dftemp = df.copy()\n",
    "    for t in tickers:\n",
    "        result, resid, _, _, _ = np.polyfit(dftemp[('SMA_change', t)].dropna().index, dftemp[('SMA_change', t)].dropna(), 4, full=True)\n",
    "        poly_eq = np.poly1d(result)\n",
    "        #poly_eq = poly_eq + resid\n",
    "        dftemp[('Polyfit', t)] = poly_eq(dftemp.index)\n",
    "        dftemp[('Polyfit', t)] = dftemp[('Polyfit', t)]\n",
    "    dftemp = dftemp.reset_index()\n",
    "    return dftemp, resid\n",
    "\n",
    "tickers = ['SPY', 'AAPL', 'MSFT', 'PYPL', 'ISRG', 'GM', 'INTC', 'PANW']\n",
    "\n",
    "startd = datetime.datetime(2016, 1, 1) \n",
    "#endd_1 = datetime.datetime(2019, 1, 1)\n",
    "endd_2 = datetime.datetime(2020, 1, 1)\n",
    "df = data.DataReader(tickers, 'yahoo', startd, endd_2).reset_index()\n",
    "\n",
    "for t in tickers:\n",
    "    df[('Percent_return', t)] = df[('Close', t)].pct_change()\n",
    "    df[('SMA', t)] = df[('Close', t)].rolling(5).mean()\n",
    "    df[('SMA_change', t)] = df[('SMA', t)].pct_change()\n",
    "    df[('SMA200', t)] = df[('Close', t)].rolling(200).mean()\n",
    "    df[('SMA200_change', t)] = df[('SMA200', t)].pct_change()\n",
    "df = df.dropna()\n",
    "df = df.reset_index()\n",
    "\n",
    "dfs = {'Polyfit' + str(i):df for i in range(250, df.index[-1]+1)}\n",
    "for x in range(251, df.index[-1]+1):\n",
    "    dict_key = 'Polyfit' + str(x)\n",
    "    dfs[dict_key], resid = polyfit_df(tickers, df.iloc[:x])\n",
    "    if x==300 or x==500:\n",
    "        print(f'{x}:   {datetime.datetime.now().time()}')\n",
    "        \n",
    "end_time = datetime.datetime.now().time()\n",
    "print(f'''\n",
    "length of the last dataframe ({dict_key}) is: {len(dfs[dict_key])}\n",
    "Time when finished:                   {end_time}''')"
   ]
  },
  {
   "cell_type": "code",
   "execution_count": 45,
   "metadata": {
    "scrolled": false
   },
   "outputs": [
    {
     "data": {
      "application/vnd.jupyter.widget-view+json": {
       "model_id": "55ca77dd867341639573208af86c1bfe",
       "version_major": 2,
       "version_minor": 0
      },
      "text/plain": [
       "Canvas(toolbar=Toolbar(toolitems=[('Home', 'Reset original view', 'home', 'home'), ('Back', 'Back to previous …"
      ]
     },
     "metadata": {},
     "output_type": "display_data"
    },
    {
     "data": {
      "application/vnd.jupyter.widget-view+json": {
       "model_id": "345dc69edbdd4cf6a7ee68b905d82c9f",
       "version_major": 2,
       "version_minor": 0
      },
      "text/plain": [
       "Canvas(toolbar=Toolbar(toolitems=[('Home', 'Reset original view', 'home', 'home'), ('Back', 'Back to previous …"
      ]
     },
     "metadata": {},
     "output_type": "display_data"
    },
    {
     "data": {
      "application/vnd.jupyter.widget-view+json": {
       "model_id": "576aaffd911446918fbcb8bc0fa242e7",
       "version_major": 2,
       "version_minor": 0
      },
      "text/plain": [
       "Canvas(toolbar=Toolbar(toolitems=[('Home', 'Reset original view', 'home', 'home'), ('Back', 'Back to previous …"
      ]
     },
     "metadata": {},
     "output_type": "display_data"
    },
    {
     "data": {
      "application/vnd.jupyter.widget-view+json": {
       "model_id": "fe78c2b721f8435fb15d6643bac38854",
       "version_major": 2,
       "version_minor": 0
      },
      "text/plain": [
       "Canvas(toolbar=Toolbar(toolitems=[('Home', 'Reset original view', 'home', 'home'), ('Back', 'Back to previous …"
      ]
     },
     "metadata": {},
     "output_type": "display_data"
    },
    {
     "data": {
      "application/vnd.jupyter.widget-view+json": {
       "model_id": "8e8f288140c647ac9bfcfb4959e56c4f",
       "version_major": 2,
       "version_minor": 0
      },
      "text/plain": [
       "Canvas(toolbar=Toolbar(toolitems=[('Home', 'Reset original view', 'home', 'home'), ('Back', 'Back to previous …"
      ]
     },
     "metadata": {},
     "output_type": "display_data"
    },
    {
     "data": {
      "application/vnd.jupyter.widget-view+json": {
       "model_id": "219e10c62d864ef8ab74d968d3cc692c",
       "version_major": 2,
       "version_minor": 0
      },
      "text/plain": [
       "Canvas(toolbar=Toolbar(toolitems=[('Home', 'Reset original view', 'home', 'home'), ('Back', 'Back to previous …"
      ]
     },
     "metadata": {},
     "output_type": "display_data"
    },
    {
     "data": {
      "application/vnd.jupyter.widget-view+json": {
       "model_id": "cc7b1b3f63044f5f9d5e05f0e2cd2fab",
       "version_major": 2,
       "version_minor": 0
      },
      "text/plain": [
       "Canvas(toolbar=Toolbar(toolitems=[('Home', 'Reset original view', 'home', 'home'), ('Back', 'Back to previous …"
      ]
     },
     "metadata": {},
     "output_type": "display_data"
    },
    {
     "data": {
      "application/vnd.jupyter.widget-view+json": {
       "model_id": "da430768cb6543b78f7934e9e1b46284",
       "version_major": 2,
       "version_minor": 0
      },
      "text/plain": [
       "Canvas(toolbar=Toolbar(toolitems=[('Home', 'Reset original view', 'home', 'home'), ('Back', 'Back to previous …"
      ]
     },
     "metadata": {},
     "output_type": "display_data"
    },
    {
     "data": {
      "application/vnd.jupyter.widget-view+json": {
       "model_id": "d38683334f1743b3b8b54e38daea3d90",
       "version_major": 2,
       "version_minor": 0
      },
      "text/plain": [
       "Canvas(toolbar=Toolbar(toolitems=[('Home', 'Reset original view', 'home', 'home'), ('Back', 'Back to previous …"
      ]
     },
     "metadata": {},
     "output_type": "display_data"
    }
   ],
   "source": [
    "plt.close('all')\n",
    "\n",
    "df_polyfit_combined = df.copy()\n",
    "for t in tickers:\n",
    "    df_polyfit_combined[('Polyfit', t)] = 0\n",
    "    for x in range(251, df.index[-1]+1): \n",
    "        dict_key = 'Polyfit' + str(x)\n",
    "        df_polyfit_combined.loc[x, ('Polyfit', t)] = dfs[dict_key][('Polyfit', t)].iloc[-1]\n",
    "######################CONTROL STRAT######################\n",
    "for t in tickers:\n",
    "    df[('Strat_control', t)] = df[('Percent_return', t)].apply(lambda x: 1)\n",
    "df[('Percent_return', 'Total')] = 0\n",
    "for t in tickers:\n",
    "    df[('Percent_return', 'Total')].iloc[252:] += df[('Percent_return', t)].iloc[252:].cumsum()\n",
    "######################CONTROL STRAT######################\n",
    "\n",
    "i_length = range(251, df_polyfit_combined.index[-1])\n",
    "for t in tickers:\n",
    "        for i in i_length:\n",
    "            if df_polyfit_combined.loc[i, ('Polyfit', t)]>=0.000 :\n",
    "                df_polyfit_combined.loc[i+1, ('Strat_polyfit_6', t)] = 1\n",
    "            if df_polyfit_combined.loc[i, ('Polyfit', t)]<0.000 :\n",
    "                df_polyfit_combined.loc[i+1, ('Strat_polyfit_6', t)] = 0    \n",
    "                \n",
    "df_polyfit_combined[('Strat_polyfit_6_percent_return', 'Total')] = 0\n",
    "for t in tickers:\n",
    "    df_polyfit_combined[('Strat_polyfit_6_percent_return', t)] = df_polyfit_combined[('Strat_polyfit_6', t)] * df_polyfit_combined[('Percent_return', t)]\n",
    "    df_polyfit_combined[('Strat_polyfit_6_percent_return', 'Total')] += df_polyfit_combined[('Strat_polyfit_6_percent_return', t)].cumsum()\n",
    "\n",
    "plt.figure(figsize=(10,4))\n",
    "plt.plot(df_polyfit_combined[('Strat_polyfit_6_percent_return', 'Total')])\n",
    "plt.plot(df[('Percent_return', 'Total')].iloc[252:])\n",
    "        \n",
    "for t in tickers:\n",
    "    fig, ax = plt.subplots(2, sharex=True, figsize=(10,5), gridspec_kw={'height_ratios':[2.5, 1], 'hspace':0.02})\n",
    "    ax[0].set_title(t)\n",
    "    ax[0].plot(df_polyfit_combined[('Strat_polyfit_6_percent_return', t)].cumsum())\n",
    "    ax[0].plot(df_polyfit_combined[('Percent_return', t)].iloc[252:].cumsum())\n",
    "    ax[1].plot(df_polyfit_combined[('Strat_polyfit_6', t)])"
   ]
  },
  {
   "cell_type": "markdown",
   "metadata": {},
   "source": [
    "# Savinsky-Golay Time-sensitivity"
   ]
  },
  {
   "cell_type": "code",
   "execution_count": 29,
   "metadata": {
    "scrolled": false
   },
   "outputs": [
    {
     "name": "stdout",
     "output_type": "stream",
     "text": [
      "14:37:26.263994\n",
      "252:   14:37:30.750860\n",
      "500:   14:37:39.608799\n",
      "750:   14:37:50.422927\n"
     ]
    },
    {
     "ename": "AttributeError",
     "evalue": "'datetime.time' object has no attribute 'str'",
     "output_type": "error",
     "traceback": [
      "\u001b[1;31m---------------------------------------------------------------------------\u001b[0m",
      "\u001b[1;31mAttributeError\u001b[0m                            Traceback (most recent call last)",
      "\u001b[1;32m<ipython-input-29-da3b90ade1ef>\u001b[0m in \u001b[0;36m<module>\u001b[1;34m\u001b[0m\n\u001b[0;32m     42\u001b[0m         \u001b[0mprint\u001b[0m\u001b[1;33m(\u001b[0m\u001b[1;34mf'{x}:   {datetime.datetime.now().time()}'\u001b[0m\u001b[1;33m)\u001b[0m\u001b[1;33m\u001b[0m\u001b[1;33m\u001b[0m\u001b[0m\n\u001b[0;32m     43\u001b[0m \u001b[1;33m\u001b[0m\u001b[0m\n\u001b[1;32m---> 44\u001b[1;33m \u001b[0mend_time\u001b[0m \u001b[1;33m=\u001b[0m \u001b[0mdatetime\u001b[0m\u001b[1;33m.\u001b[0m\u001b[0mdatetime\u001b[0m\u001b[1;33m.\u001b[0m\u001b[0mnow\u001b[0m\u001b[1;33m(\u001b[0m\u001b[1;33m)\u001b[0m\u001b[1;33m.\u001b[0m\u001b[0mtime\u001b[0m\u001b[1;33m(\u001b[0m\u001b[1;33m)\u001b[0m\u001b[1;33m.\u001b[0m\u001b[0mstr\u001b[0m\u001b[1;33m(\u001b[0m\u001b[1;33m)\u001b[0m\u001b[1;33m\u001b[0m\u001b[1;33m\u001b[0m\u001b[0m\n\u001b[0m\u001b[0;32m     45\u001b[0m print(f'''\n\u001b[0;32m     46\u001b[0m \u001b[0mlength\u001b[0m \u001b[0mof\u001b[0m \u001b[0mthe\u001b[0m \u001b[0mlast\u001b[0m \u001b[0mdataframe\u001b[0m \u001b[1;33m(\u001b[0m\u001b[1;33m{\u001b[0m\u001b[0mdict_key\u001b[0m\u001b[1;33m}\u001b[0m\u001b[1;33m)\u001b[0m \u001b[1;32mis\u001b[0m\u001b[1;33m:\u001b[0m \u001b[1;33m{\u001b[0m\u001b[0mlen\u001b[0m\u001b[1;33m(\u001b[0m\u001b[0mdfs\u001b[0m\u001b[1;33m[\u001b[0m\u001b[0mdict_key\u001b[0m\u001b[1;33m]\u001b[0m\u001b[1;33m)\u001b[0m\u001b[1;33m}\u001b[0m\u001b[1;33m\u001b[0m\u001b[1;33m\u001b[0m\u001b[0m\n",
      "\u001b[1;31mAttributeError\u001b[0m: 'datetime.time' object has no attribute 'str'"
     ]
    }
   ],
   "source": [
    "#13; 3; + resid\n",
    "\n",
    "start_time = datetime.datetime.now().time()\n",
    "print(start_time)\n",
    "def smoothing_sma_savgol(tickers, df):\n",
    "    dftemp = df.copy()\n",
    "    for t in tickers:\n",
    "        savgol_len = len(df[('SMA_change', t)].dropna())\n",
    "        while (savgol_len % 2) == 0:\n",
    "            savgol_len -= 1\n",
    "    #No real rules for polyorder, just use what fits best for its purpose!\n",
    "        savgol = savgol_filter(df[('SMA_change', t)].dropna(), savgol_len, polyorder=35)\n",
    "        insert_len =  len(df[('SMA_change', t)]) - len(savgol)\n",
    "        savgol = np.insert(savgol, 0, np.zeros(insert_len) + np.nan)\n",
    "        dftemp[('Savgol', t)] = pd.Series(savgol, index=df.index)\n",
    "        dftemp[('Savgol', t)] = dftemp[('Savgol', t)]\n",
    "    dftemp.reset_index()\n",
    "    return dftemp\n",
    "\n",
    "tickers = ['SPY', 'AAPL', 'MSFT', 'PYPL', 'ISRG', 'GM', 'INTC', 'PANW']\n",
    "\n",
    "startd = datetime.datetime(2016, 1, 1) \n",
    "#endd_1 = datetime.datetime(2019, 1, 1)\n",
    "endd_2 = datetime.datetime(2020, 1, 1)\n",
    "df = data.DataReader(tickers, 'yahoo', startd, endd_2).reset_index()\n",
    "\n",
    "for t in tickers:\n",
    "    df[('Percent_return', t)] = df[('Close', t)].pct_change()\n",
    "    df[('SMA', t)] = df[('Close', t)].rolling(70).mean()\n",
    "    df[('SMA_change', t)] = df[('SMA', t)].pct_change()\n",
    "    df[('SMA200', t)] = df[('Close', t)].rolling(200).mean()\n",
    "    df[('SMA200_change', t)] = df[('SMA200', t)].pct_change()\n",
    "df = df.dropna()\n",
    "df = df.reset_index()\n",
    "\n",
    "dfs = {'Savgol' + str(i):df for i in range(250, df.index[-1]+1)}\n",
    "for x in range(251, df.index[-1]+1):\n",
    "    dict_key = ['Savgol' + str(x)]\n",
    "    dfs['Savgol' + str(x)] = smoothing_sma_savgol(tickers, df.iloc[:x])\n",
    "    #Time checkpoints\n",
    "    if x==252 or x==500 or x==750:\n",
    "        print(f'{x}:   {datetime.datetime.now().time()}')\n",
    "\n",
    "end_time = datetime.datetime.now().time()\n",
    "print(f'''\n",
    "length of the last dataframe ({dict_key}) is: {len(dfs[dict_key])}\n",
    "Time when finished:                   {end_time}''')"
   ]
  },
  {
   "cell_type": "code",
   "execution_count": 26,
   "metadata": {
    "scrolled": false
   },
   "outputs": [
    {
     "data": {
      "application/vnd.jupyter.widget-view+json": {
       "model_id": "bdb97f1231174f3ab37f94e16443c198",
       "version_major": 2,
       "version_minor": 0
      },
      "text/plain": [
       "Canvas(toolbar=Toolbar(toolitems=[('Home', 'Reset original view', 'home', 'home'), ('Back', 'Back to previous …"
      ]
     },
     "metadata": {},
     "output_type": "display_data"
    },
    {
     "data": {
      "application/vnd.jupyter.widget-view+json": {
       "model_id": "8a7aaee2b08f4abd9ae21e2d6235754a",
       "version_major": 2,
       "version_minor": 0
      },
      "text/plain": [
       "Canvas(toolbar=Toolbar(toolitems=[('Home', 'Reset original view', 'home', 'home'), ('Back', 'Back to previous …"
      ]
     },
     "metadata": {},
     "output_type": "display_data"
    },
    {
     "data": {
      "application/vnd.jupyter.widget-view+json": {
       "model_id": "cdb999668e454c318f35b8ef7b234030",
       "version_major": 2,
       "version_minor": 0
      },
      "text/plain": [
       "Canvas(toolbar=Toolbar(toolitems=[('Home', 'Reset original view', 'home', 'home'), ('Back', 'Back to previous …"
      ]
     },
     "metadata": {},
     "output_type": "display_data"
    },
    {
     "data": {
      "application/vnd.jupyter.widget-view+json": {
       "model_id": "8be8d847b0e64d7ab55c59ab5b33f13d",
       "version_major": 2,
       "version_minor": 0
      },
      "text/plain": [
       "Canvas(toolbar=Toolbar(toolitems=[('Home', 'Reset original view', 'home', 'home'), ('Back', 'Back to previous …"
      ]
     },
     "metadata": {},
     "output_type": "display_data"
    },
    {
     "data": {
      "application/vnd.jupyter.widget-view+json": {
       "model_id": "d6a33e449edc4b2bab2b6d699ac17dd6",
       "version_major": 2,
       "version_minor": 0
      },
      "text/plain": [
       "Canvas(toolbar=Toolbar(toolitems=[('Home', 'Reset original view', 'home', 'home'), ('Back', 'Back to previous …"
      ]
     },
     "metadata": {},
     "output_type": "display_data"
    },
    {
     "data": {
      "application/vnd.jupyter.widget-view+json": {
       "model_id": "3e17f575593c4695a701a0a0ab9db009",
       "version_major": 2,
       "version_minor": 0
      },
      "text/plain": [
       "Canvas(toolbar=Toolbar(toolitems=[('Home', 'Reset original view', 'home', 'home'), ('Back', 'Back to previous …"
      ]
     },
     "metadata": {},
     "output_type": "display_data"
    },
    {
     "data": {
      "application/vnd.jupyter.widget-view+json": {
       "model_id": "b67c6071aef74c35a526943dc958e0db",
       "version_major": 2,
       "version_minor": 0
      },
      "text/plain": [
       "Canvas(toolbar=Toolbar(toolitems=[('Home', 'Reset original view', 'home', 'home'), ('Back', 'Back to previous …"
      ]
     },
     "metadata": {},
     "output_type": "display_data"
    },
    {
     "data": {
      "application/vnd.jupyter.widget-view+json": {
       "model_id": "765cb4bd771343eb900842aa67a63794",
       "version_major": 2,
       "version_minor": 0
      },
      "text/plain": [
       "Canvas(toolbar=Toolbar(toolitems=[('Home', 'Reset original view', 'home', 'home'), ('Back', 'Back to previous …"
      ]
     },
     "metadata": {},
     "output_type": "display_data"
    },
    {
     "data": {
      "application/vnd.jupyter.widget-view+json": {
       "model_id": "69c69a29c26345a0adf86ba5a1ced020",
       "version_major": 2,
       "version_minor": 0
      },
      "text/plain": [
       "Canvas(toolbar=Toolbar(toolitems=[('Home', 'Reset original view', 'home', 'home'), ('Back', 'Back to previous …"
      ]
     },
     "metadata": {},
     "output_type": "display_data"
    }
   ],
   "source": [
    "plt.close('all')\n",
    "\n",
    "df_savgol_combined = df.copy()\n",
    "for t in tickers:\n",
    "    df_savgol_combined[('Savgol', t)] = 0\n",
    "    for x in range(251, df.index[-1]+1): \n",
    "        #dict_key = 'Savgol' + str(x)\n",
    "        df_savgol_combined.loc[x, ('Savgol', t)] = dfs['Savgol' + str(x)][('Savgol', t)].iloc[-1]\n",
    "######################CONTROL STRAT######################\n",
    "for t in tickers:\n",
    "    df[('Strat_control', t)] = df[('Percent_return', t)].apply(lambda x: 1)\n",
    "df[('Percent_return', 'Total')] = 0\n",
    "for t in tickers:\n",
    "    df[('Percent_return', 'Total')].iloc[252:] += df[('Percent_return', t)].iloc[252:].cumsum()\n",
    "######################CONTROL STRAT######################\n",
    "\n",
    "i_length = range(251, df_savgol_combined.index[-1])\n",
    "for t in tickers:\n",
    "        for i in i_length:\n",
    "            if df_savgol_combined.loc[i, ('Savgol', t)]>=0.000 :\n",
    "                df_savgol_combined.loc[i+1, ('Strat_savgol_6', t)] = 1\n",
    "            if df_savgol_combined.loc[i, ('Savgol', t)]<0.000 :\n",
    "                df_savgol_combined.loc[i+1, ('Strat_savgol_6', t)] = 0    \n",
    "                \n",
    "df_savgol_combined[('Strat_savgol_6_percent_return', 'Total')] = 0\n",
    "for t in tickers:\n",
    "    df_savgol_combined[('Strat_savgol_6_percent_return', t)] = df_savgol_combined[('Strat_savgol_6', t)] * df_savgol_combined[('Percent_return', t)]\n",
    "    df_savgol_combined[('Strat_savgol_6_percent_return', 'Total')] += df_savgol_combined[('Strat_savgol_6_percent_return', t)].cumsum()\n",
    "\n",
    "plt.figure(figsize=(10,4))\n",
    "plt.plot(df_savgol_combined[('Strat_savgol_6_percent_return', 'Total')])\n",
    "plt.plot(df[('Percent_return', 'Total')].iloc[252:])\n",
    "        \n",
    "for t in tickers:\n",
    "    fig, ax = plt.subplots(2, sharex=True, figsize=(10,5), gridspec_kw={'height_ratios':[2.5, 1], 'hspace':0.02})\n",
    "    ax[0].set_title(t)\n",
    "    ax[0].plot(df_savgol_combined[('Strat_savgol_6_percent_return', t)].cumsum())\n",
    "    ax[0].plot(df_savgol_combined[('Percent_return', t)].iloc[252:].cumsum())\n",
    "    ax[1].plot(df_savgol_combined[('Strat_savgol_6', t)])"
   ]
  },
  {
   "cell_type": "markdown",
   "metadata": {},
   "source": [
    "# Ichi testing"
   ]
  },
  {
   "cell_type": "code",
   "execution_count": 7,
   "metadata": {},
   "outputs": [],
   "source": [
    "tickers = ['SPY', 'AAPL', 'MSFT', 'PYPL', 'ISRG', 'GM', 'INTC', 'PANW']\n",
    "\n",
    "startd = datetime.datetime(2016, 1, 1) \n",
    "#endd_1 = datetime.datetime(2019, 1, 1)\n",
    "endd_2 = datetime.datetime(2020, 1, 1)\n",
    "df = data.DataReader(tickers, 'yahoo', startd, endd_2).reset_index()\n",
    "\n",
    "for t in tickers:\n",
    "    df[('Percent_return', t)] = df[('Close', t)].pct_change()\n",
    "    df[('SMA', t)] = df[('Close', t)].rolling(70).mean()\n",
    "    df[('SMA_change', t)] = df[('SMA', t)].pct_change()\n",
    "    df[('SMA200', t)] = df[('Close', t)].rolling(200).mean()\n",
    "    df[('SMA200_change', t)] = df[('SMA200', t)].pct_change()\n",
    "df = df.dropna()\n",
    "df = df.reset_index()\n",
    "\n",
    "dfichi = df.copy().dropna() #werkt voor alle tickers!  -> Probleem verwijdert data voor alles als data ontbreekt\n",
    "#dfichi.set_index('Date', inplace=True)\n",
    "\n",
    "for t in tickers:\n",
    "# Tenkan-sen (Conversion Line): (9-period high + 9-period low)/2))\n",
    "    nine_period_high = dfichi[('High', t)].rolling(window= 9).max()\n",
    "    nine_period_low = dfichi[('Low', t)].rolling(9).min()\n",
    "    dfichi[('Tenkan_sen', t)] = (nine_period_high + nine_period_low) /2\n",
    "# Kijun-sen (Base Line): (26-period high + 26-period low)/2))\n",
    "    period26_high = dfichi[('High', t)].rolling(26).max()\n",
    "    period26_low = dfichi[('Low', t)].rolling(26).min()\n",
    "    dfichi[('Kijun_sen', t)] = (period26_high + period26_low) / 2\n",
    "# Senkou Span A (Leading Span A): (Conversion Line + Base Line)/2))\n",
    "    dfichi[('Senkou_span_a', t)] = ((dfichi[('Tenkan_sen', t)] + dfichi[('Kijun_sen', t)]) / 2).shift(26)\n",
    "# Senkou Span B (Leading Span B): (52-period high + 52-period low)/2))\n",
    "    period52_high = dfichi[('High', t)].rolling(52).max()\n",
    "    period52_low = dfichi[('Low', t)].rolling(52).min()\n",
    "    dfichi[('Senkou_span_b', t)] = ((period52_high + period52_low) / 2).shift(26)\n",
    "# The most current closing price plotted 26 time periods behind (optional)\n",
    "    dfichi[('Chikou_span', t)] = dfichi[('Close', t)].shift(-26)\n",
    "###########Cloud tussen Senkou A en Senkou B    "
   ]
  },
  {
   "cell_type": "code",
   "execution_count": 8,
   "metadata": {
    "scrolled": false
   },
   "outputs": [
    {
     "data": {
      "application/vnd.jupyter.widget-view+json": {
       "model_id": "ac8bc77f85da49108de07a4fd8cc0ed7",
       "version_major": 2,
       "version_minor": 0
      },
      "text/plain": [
       "Canvas(toolbar=Toolbar(toolitems=[('Home', 'Reset original view', 'home', 'home'), ('Back', 'Back to previous …"
      ]
     },
     "metadata": {},
     "output_type": "display_data"
    },
    {
     "data": {
      "application/vnd.jupyter.widget-view+json": {
       "model_id": "2b90009b9f2d49b480764e0df7d30a8b",
       "version_major": 2,
       "version_minor": 0
      },
      "text/plain": [
       "Canvas(toolbar=Toolbar(toolitems=[('Home', 'Reset original view', 'home', 'home'), ('Back', 'Back to previous …"
      ]
     },
     "metadata": {},
     "output_type": "display_data"
    },
    {
     "data": {
      "application/vnd.jupyter.widget-view+json": {
       "model_id": "78b7d61a86b9495493aad06c8efbdad2",
       "version_major": 2,
       "version_minor": 0
      },
      "text/plain": [
       "Canvas(toolbar=Toolbar(toolitems=[('Home', 'Reset original view', 'home', 'home'), ('Back', 'Back to previous …"
      ]
     },
     "metadata": {},
     "output_type": "display_data"
    },
    {
     "data": {
      "application/vnd.jupyter.widget-view+json": {
       "model_id": "e6e747033c714c3bb39c39fa00c0a0cf",
       "version_major": 2,
       "version_minor": 0
      },
      "text/plain": [
       "Canvas(toolbar=Toolbar(toolitems=[('Home', 'Reset original view', 'home', 'home'), ('Back', 'Back to previous …"
      ]
     },
     "metadata": {},
     "output_type": "display_data"
    },
    {
     "data": {
      "application/vnd.jupyter.widget-view+json": {
       "model_id": "81cb92437d54476d9864a39f68f3b172",
       "version_major": 2,
       "version_minor": 0
      },
      "text/plain": [
       "Canvas(toolbar=Toolbar(toolitems=[('Home', 'Reset original view', 'home', 'home'), ('Back', 'Back to previous …"
      ]
     },
     "metadata": {},
     "output_type": "display_data"
    },
    {
     "data": {
      "application/vnd.jupyter.widget-view+json": {
       "model_id": "fb95fe9c6c644ec78268363e629762c7",
       "version_major": 2,
       "version_minor": 0
      },
      "text/plain": [
       "Canvas(toolbar=Toolbar(toolitems=[('Home', 'Reset original view', 'home', 'home'), ('Back', 'Back to previous …"
      ]
     },
     "metadata": {},
     "output_type": "display_data"
    },
    {
     "data": {
      "application/vnd.jupyter.widget-view+json": {
       "model_id": "b6f1a192f3c64bf5be3e3c2d7f631533",
       "version_major": 2,
       "version_minor": 0
      },
      "text/plain": [
       "Canvas(toolbar=Toolbar(toolitems=[('Home', 'Reset original view', 'home', 'home'), ('Back', 'Back to previous …"
      ]
     },
     "metadata": {},
     "output_type": "display_data"
    },
    {
     "data": {
      "application/vnd.jupyter.widget-view+json": {
       "model_id": "ced556f4eb254b9da660d61505a604af",
       "version_major": 2,
       "version_minor": 0
      },
      "text/plain": [
       "Canvas(toolbar=Toolbar(toolitems=[('Home', 'Reset original view', 'home', 'home'), ('Back', 'Back to previous …"
      ]
     },
     "metadata": {},
     "output_type": "display_data"
    },
    {
     "data": {
      "application/vnd.jupyter.widget-view+json": {
       "model_id": "773e6233ed954cb2bfceefe438405d33",
       "version_major": 2,
       "version_minor": 0
      },
      "text/plain": [
       "Canvas(toolbar=Toolbar(toolitems=[('Home', 'Reset original view', 'home', 'home'), ('Back', 'Back to previous …"
      ]
     },
     "metadata": {},
     "output_type": "display_data"
    }
   ],
   "source": [
    "plt.close('all')\n",
    "\n",
    "######################CONTROL STRAT######################\n",
    "for t in tickers:\n",
    "    dfichi[('Strat_control', t)] = dfichi[('Percent_return', t)].apply(lambda x: 1)\n",
    "dfichi[('Percent_return', 'Total')] = 0\n",
    "for t in tickers:\n",
    "    dfichi[('Percent_return', 'Total')].iloc[52:] += dfichi[('Percent_return', t)].iloc[52:].cumsum()\n",
    "######################CONTROL STRAT######################\n",
    "\n",
    "i_length = range(0, dfichi.index[-30])\n",
    "for t in tickers:\n",
    "        for i in i_length:\n",
    "            if dfichi.loc[i, ('Close', t)]>=dfichi.loc[i, ('Kijun_sen', t)]:\n",
    "                dfichi.loc[i+1, ('Strat_ichi', t)] = 1\n",
    "            if dfichi.loc[i+25, ('Senkou_span_a', t)]<= dfichi.loc[i+25, ('Senkou_span_b', t)]:\n",
    "                dfichi.loc[i+1, ('Strat_ichi', t)] = 0    \n",
    "            else:\n",
    "                dfichi.loc[i+1, ('Strat_ichi', t)] = 1\n",
    "    ##Gebruik when .. then 1 untill ... then 0 -> save the current i and start again.\n",
    "                \n",
    "dfichi[('Strat_ichi_return', 'Total')] = 0\n",
    "for t in tickers:\n",
    "    dfichi[('Strat_ichi_return', t)] = dfichi[('Strat_ichi', t)] * dfichi[('Percent_return', t)]\n",
    "    dfichi[('Strat_ichi_return', 'Total')] += dfichi[('Strat_ichi_return', t)].cumsum()\n",
    "\n",
    "plt.figure(figsize=(10,4))\n",
    "plt.plot(dfichi[('Strat_ichi_return', 'Total')])\n",
    "plt.plot(dfichi[('Percent_return', 'Total')])\n",
    "        \n",
    "for t in tickers:\n",
    "    fig, ax = plt.subplots(2, sharex=True, figsize=(10,5), gridspec_kw={'height_ratios':[2.5, 1], 'hspace':0.02})\n",
    "    ax[0].set_title(t)\n",
    "    ax[0].plot(dfichi[('Strat_ichi_return', t)].cumsum())\n",
    "    ax[0].plot(dfichi[('Percent_return', t)].cumsum())\n",
    "    ax[1].plot(dfichi[('Strat_ichi', t)])"
   ]
  },
  {
   "cell_type": "markdown",
   "metadata": {},
   "source": [
    "# Testing Stoploss"
   ]
  },
  {
   "cell_type": "raw",
   "metadata": {},
   "source": [
    "Multiple ways to do a stoploss strategy, from besic to far mroe sophisticated.\n",
    "\n",
    "1. SL. based on SMA percent change; best result from ==>> SMA rolling 20; >= -0.01                                               -> Not a winning strategy on its own.\n",
    "        \n",
    "1.5 THUS ==>> This can Obviously not work on its own. One needs to combine it with some kind of rule that does more than          only sell and buy right back again!                                                                                     Like; wait untill x falls below y and then rises above it again??\n",
    "        \n",
    "2. SL. Strat taken from tradingview; Average True Range (ATR) Trailing Stoploss                                                **Gebruikt voor ATR: https://stackoverflow.com/questions/40256338/calculating-average-true-range-atr-on-ohlc-data-with-python                                                                                                                        **Wat is ATR?: https://en.wikipedia.org/wiki/Average_true_range"
   ]
  },
  {
   "cell_type": "code",
   "execution_count": 9,
   "metadata": {
    "scrolled": false
   },
   "outputs": [
    {
     "name": "stdout",
     "output_type": "stream",
     "text": [
      "01:53:19.544131\n"
     ]
    },
    {
     "ename": "KeyboardInterrupt",
     "evalue": "",
     "output_type": "error",
     "traceback": [
      "\u001b[1;31m---------------------------------------------------------------------------\u001b[0m",
      "\u001b[1;31mKeyboardInterrupt\u001b[0m                         Traceback (most recent call last)",
      "\u001b[1;32m<ipython-input-9-724bc513ae33>\u001b[0m in \u001b[0;36m<module>\u001b[1;34m\u001b[0m\n\u001b[0;32m     41\u001b[0m         \u001b[1;32mwhile\u001b[0m \u001b[1;32mTrue\u001b[0m\u001b[1;33m:\u001b[0m\u001b[1;33m\u001b[0m\u001b[1;33m\u001b[0m\u001b[0m\n\u001b[0;32m     42\u001b[0m             \u001b[1;32mif\u001b[0m \u001b[0mdf\u001b[0m\u001b[1;33m.\u001b[0m\u001b[0mloc\u001b[0m\u001b[1;33m[\u001b[0m\u001b[0mx\u001b[0m\u001b[1;33m:\u001b[0m\u001b[0mi\u001b[0m\u001b[1;33m,\u001b[0m \u001b[1;33m(\u001b[0m\u001b[1;34m'Atr'\u001b[0m\u001b[1;33m,\u001b[0m \u001b[0mt\u001b[0m\u001b[1;33m)\u001b[0m\u001b[1;33m]\u001b[0m\u001b[1;33m.\u001b[0m\u001b[0mmax\u001b[0m\u001b[1;33m(\u001b[0m\u001b[1;33m)\u001b[0m\u001b[1;33m<\u001b[0m\u001b[0mdf\u001b[0m\u001b[1;33m.\u001b[0m\u001b[0mloc\u001b[0m\u001b[1;33m[\u001b[0m\u001b[0mi\u001b[0m\u001b[1;33m,\u001b[0m \u001b[1;33m(\u001b[0m\u001b[1;34m'Close'\u001b[0m\u001b[1;33m,\u001b[0m \u001b[0mt\u001b[0m\u001b[1;33m)\u001b[0m\u001b[1;33m]\u001b[0m\u001b[1;33m:\u001b[0m\u001b[1;33m\u001b[0m\u001b[1;33m\u001b[0m\u001b[0m\n\u001b[1;32m---> 43\u001b[1;33m                 \u001b[0mdf\u001b[0m\u001b[1;33m.\u001b[0m\u001b[0mloc\u001b[0m\u001b[1;33m[\u001b[0m\u001b[0mi\u001b[0m\u001b[1;33m+\u001b[0m\u001b[1;36m1\u001b[0m\u001b[1;33m,\u001b[0m \u001b[1;33m(\u001b[0m\u001b[1;34m'Strat'\u001b[0m\u001b[1;33m,\u001b[0m \u001b[0mt\u001b[0m\u001b[1;33m)\u001b[0m\u001b[1;33m]\u001b[0m \u001b[1;33m=\u001b[0m \u001b[1;36m1\u001b[0m\u001b[1;33m\u001b[0m\u001b[1;33m\u001b[0m\u001b[0m\n\u001b[0m\u001b[0;32m     44\u001b[0m             \u001b[1;32mif\u001b[0m \u001b[0mdf\u001b[0m\u001b[1;33m.\u001b[0m\u001b[0mloc\u001b[0m\u001b[1;33m[\u001b[0m\u001b[0mx\u001b[0m\u001b[1;33m:\u001b[0m\u001b[0mi\u001b[0m\u001b[1;33m,\u001b[0m \u001b[1;33m(\u001b[0m\u001b[1;34m'Atr'\u001b[0m\u001b[1;33m,\u001b[0m \u001b[0mt\u001b[0m\u001b[1;33m)\u001b[0m\u001b[1;33m]\u001b[0m\u001b[1;33m.\u001b[0m\u001b[0mmax\u001b[0m\u001b[1;33m(\u001b[0m\u001b[1;33m)\u001b[0m\u001b[1;33m>=\u001b[0m\u001b[0mdf\u001b[0m\u001b[1;33m.\u001b[0m\u001b[0mloc\u001b[0m\u001b[1;33m[\u001b[0m\u001b[0mi\u001b[0m\u001b[1;33m,\u001b[0m \u001b[1;33m(\u001b[0m\u001b[1;34m'Close'\u001b[0m\u001b[1;33m,\u001b[0m \u001b[0mt\u001b[0m\u001b[1;33m)\u001b[0m\u001b[1;33m]\u001b[0m\u001b[1;33m:\u001b[0m\u001b[1;33m\u001b[0m\u001b[1;33m\u001b[0m\u001b[0m\n\u001b[0;32m     45\u001b[0m                 \u001b[0mdf\u001b[0m\u001b[1;33m.\u001b[0m\u001b[0mloc\u001b[0m\u001b[1;33m[\u001b[0m\u001b[0mi\u001b[0m\u001b[1;33m+\u001b[0m\u001b[1;36m1\u001b[0m\u001b[1;33m,\u001b[0m \u001b[1;33m(\u001b[0m\u001b[1;34m'Strat'\u001b[0m\u001b[1;33m,\u001b[0m \u001b[0mt\u001b[0m\u001b[1;33m)\u001b[0m\u001b[1;33m]\u001b[0m \u001b[1;33m=\u001b[0m \u001b[1;36m0\u001b[0m\u001b[1;33m\u001b[0m\u001b[1;33m\u001b[0m\u001b[0m\n",
      "\u001b[1;32m~\\anaconda3\\lib\\site-packages\\pandas\\core\\indexing.py\u001b[0m in \u001b[0;36m__setitem__\u001b[1;34m(self, key, value)\u001b[0m\n\u001b[0;32m    668\u001b[0m \u001b[1;33m\u001b[0m\u001b[0m\n\u001b[0;32m    669\u001b[0m         \u001b[0miloc\u001b[0m \u001b[1;33m=\u001b[0m \u001b[0mself\u001b[0m \u001b[1;32mif\u001b[0m \u001b[0mself\u001b[0m\u001b[1;33m.\u001b[0m\u001b[0mname\u001b[0m \u001b[1;33m==\u001b[0m \u001b[1;34m\"iloc\"\u001b[0m \u001b[1;32melse\u001b[0m \u001b[0mself\u001b[0m\u001b[1;33m.\u001b[0m\u001b[0mobj\u001b[0m\u001b[1;33m.\u001b[0m\u001b[0miloc\u001b[0m\u001b[1;33m\u001b[0m\u001b[1;33m\u001b[0m\u001b[0m\n\u001b[1;32m--> 670\u001b[1;33m         \u001b[0miloc\u001b[0m\u001b[1;33m.\u001b[0m\u001b[0m_setitem_with_indexer\u001b[0m\u001b[1;33m(\u001b[0m\u001b[0mindexer\u001b[0m\u001b[1;33m,\u001b[0m \u001b[0mvalue\u001b[0m\u001b[1;33m)\u001b[0m\u001b[1;33m\u001b[0m\u001b[1;33m\u001b[0m\u001b[0m\n\u001b[0m\u001b[0;32m    671\u001b[0m \u001b[1;33m\u001b[0m\u001b[0m\n\u001b[0;32m    672\u001b[0m     \u001b[1;32mdef\u001b[0m \u001b[0m_validate_key\u001b[0m\u001b[1;33m(\u001b[0m\u001b[0mself\u001b[0m\u001b[1;33m,\u001b[0m \u001b[0mkey\u001b[0m\u001b[1;33m,\u001b[0m \u001b[0maxis\u001b[0m\u001b[1;33m:\u001b[0m \u001b[0mint\u001b[0m\u001b[1;33m)\u001b[0m\u001b[1;33m:\u001b[0m\u001b[1;33m\u001b[0m\u001b[1;33m\u001b[0m\u001b[0m\n",
      "\u001b[1;32m~\\anaconda3\\lib\\site-packages\\pandas\\core\\indexing.py\u001b[0m in \u001b[0;36m_setitem_with_indexer\u001b[1;34m(self, indexer, value)\u001b[0m\n\u001b[0;32m   1763\u001b[0m                 \u001b[1;31m# scalar value\u001b[0m\u001b[1;33m\u001b[0m\u001b[1;33m\u001b[0m\u001b[1;33m\u001b[0m\u001b[0m\n\u001b[0;32m   1764\u001b[0m                 \u001b[1;32mfor\u001b[0m \u001b[0mloc\u001b[0m \u001b[1;32min\u001b[0m \u001b[0milocs\u001b[0m\u001b[1;33m:\u001b[0m\u001b[1;33m\u001b[0m\u001b[1;33m\u001b[0m\u001b[0m\n\u001b[1;32m-> 1765\u001b[1;33m                     \u001b[0misetter\u001b[0m\u001b[1;33m(\u001b[0m\u001b[0mloc\u001b[0m\u001b[1;33m,\u001b[0m \u001b[0mvalue\u001b[0m\u001b[1;33m)\u001b[0m\u001b[1;33m\u001b[0m\u001b[1;33m\u001b[0m\u001b[0m\n\u001b[0m\u001b[0;32m   1766\u001b[0m \u001b[1;33m\u001b[0m\u001b[0m\n\u001b[0;32m   1767\u001b[0m         \u001b[1;32melse\u001b[0m\u001b[1;33m:\u001b[0m\u001b[1;33m\u001b[0m\u001b[1;33m\u001b[0m\u001b[0m\n",
      "\u001b[1;32m~\\anaconda3\\lib\\site-packages\\pandas\\core\\indexing.py\u001b[0m in \u001b[0;36misetter\u001b[1;34m(loc, v)\u001b[0m\n\u001b[0;32m   1693\u001b[0m \u001b[1;33m\u001b[0m\u001b[0m\n\u001b[0;32m   1694\u001b[0m                 \u001b[1;31m# reset the sliced object if unique\u001b[0m\u001b[1;33m\u001b[0m\u001b[1;33m\u001b[0m\u001b[1;33m\u001b[0m\u001b[0m\n\u001b[1;32m-> 1695\u001b[1;33m                 \u001b[0mself\u001b[0m\u001b[1;33m.\u001b[0m\u001b[0mobj\u001b[0m\u001b[1;33m.\u001b[0m\u001b[0m_iset_item\u001b[0m\u001b[1;33m(\u001b[0m\u001b[0mloc\u001b[0m\u001b[1;33m,\u001b[0m \u001b[0mser\u001b[0m\u001b[1;33m)\u001b[0m\u001b[1;33m\u001b[0m\u001b[1;33m\u001b[0m\u001b[0m\n\u001b[0m\u001b[0;32m   1696\u001b[0m \u001b[1;33m\u001b[0m\u001b[0m\n\u001b[0;32m   1697\u001b[0m             \u001b[1;31m# we need an iterable, with a ndim of at least 1\u001b[0m\u001b[1;33m\u001b[0m\u001b[1;33m\u001b[0m\u001b[1;33m\u001b[0m\u001b[0m\n",
      "\u001b[1;32m~\\anaconda3\\lib\\site-packages\\pandas\\core\\frame.py\u001b[0m in \u001b[0;36m_iset_item\u001b[1;34m(self, loc, value)\u001b[0m\n\u001b[0;32m   3095\u001b[0m         \u001b[1;31m#  but the behavior is the same as long as we pass broadcast=False\u001b[0m\u001b[1;33m\u001b[0m\u001b[1;33m\u001b[0m\u001b[1;33m\u001b[0m\u001b[0m\n\u001b[0;32m   3096\u001b[0m         \u001b[0mvalue\u001b[0m \u001b[1;33m=\u001b[0m \u001b[0mself\u001b[0m\u001b[1;33m.\u001b[0m\u001b[0m_sanitize_column\u001b[0m\u001b[1;33m(\u001b[0m\u001b[0mloc\u001b[0m\u001b[1;33m,\u001b[0m \u001b[0mvalue\u001b[0m\u001b[1;33m,\u001b[0m \u001b[0mbroadcast\u001b[0m\u001b[1;33m=\u001b[0m\u001b[1;32mFalse\u001b[0m\u001b[1;33m)\u001b[0m\u001b[1;33m\u001b[0m\u001b[1;33m\u001b[0m\u001b[0m\n\u001b[1;32m-> 3097\u001b[1;33m         \u001b[0mNDFrame\u001b[0m\u001b[1;33m.\u001b[0m\u001b[0m_iset_item\u001b[0m\u001b[1;33m(\u001b[0m\u001b[0mself\u001b[0m\u001b[1;33m,\u001b[0m \u001b[0mloc\u001b[0m\u001b[1;33m,\u001b[0m \u001b[0mvalue\u001b[0m\u001b[1;33m)\u001b[0m\u001b[1;33m\u001b[0m\u001b[1;33m\u001b[0m\u001b[0m\n\u001b[0m\u001b[0;32m   3098\u001b[0m \u001b[1;33m\u001b[0m\u001b[0m\n\u001b[0;32m   3099\u001b[0m         \u001b[1;31m# check if we are modifying a copy\u001b[0m\u001b[1;33m\u001b[0m\u001b[1;33m\u001b[0m\u001b[1;33m\u001b[0m\u001b[0m\n",
      "\u001b[1;32m~\\anaconda3\\lib\\site-packages\\pandas\\core\\generic.py\u001b[0m in \u001b[0;36m_iset_item\u001b[1;34m(self, loc, value)\u001b[0m\n\u001b[0;32m   3567\u001b[0m \u001b[1;33m\u001b[0m\u001b[0m\n\u001b[0;32m   3568\u001b[0m     \u001b[1;32mdef\u001b[0m \u001b[0m_iset_item\u001b[0m\u001b[1;33m(\u001b[0m\u001b[0mself\u001b[0m\u001b[1;33m,\u001b[0m \u001b[0mloc\u001b[0m\u001b[1;33m:\u001b[0m \u001b[0mint\u001b[0m\u001b[1;33m,\u001b[0m \u001b[0mvalue\u001b[0m\u001b[1;33m)\u001b[0m \u001b[1;33m->\u001b[0m \u001b[1;32mNone\u001b[0m\u001b[1;33m:\u001b[0m\u001b[1;33m\u001b[0m\u001b[1;33m\u001b[0m\u001b[0m\n\u001b[1;32m-> 3569\u001b[1;33m         \u001b[0mself\u001b[0m\u001b[1;33m.\u001b[0m\u001b[0m_mgr\u001b[0m\u001b[1;33m.\u001b[0m\u001b[0miset\u001b[0m\u001b[1;33m(\u001b[0m\u001b[0mloc\u001b[0m\u001b[1;33m,\u001b[0m \u001b[0mvalue\u001b[0m\u001b[1;33m)\u001b[0m\u001b[1;33m\u001b[0m\u001b[1;33m\u001b[0m\u001b[0m\n\u001b[0m\u001b[0;32m   3570\u001b[0m         \u001b[0mself\u001b[0m\u001b[1;33m.\u001b[0m\u001b[0m_clear_item_cache\u001b[0m\u001b[1;33m(\u001b[0m\u001b[1;33m)\u001b[0m\u001b[1;33m\u001b[0m\u001b[1;33m\u001b[0m\u001b[0m\n\u001b[0;32m   3571\u001b[0m \u001b[1;33m\u001b[0m\u001b[0m\n",
      "\u001b[1;32m~\\anaconda3\\lib\\site-packages\\pandas\\core\\internals\\managers.py\u001b[0m in \u001b[0;36miset\u001b[1;34m(self, loc, value)\u001b[0m\n\u001b[0;32m   1084\u001b[0m \u001b[1;33m\u001b[0m\u001b[0m\n\u001b[0;32m   1085\u001b[0m         \u001b[1;31m# Accessing public blknos ensures the public versions are initialized\u001b[0m\u001b[1;33m\u001b[0m\u001b[1;33m\u001b[0m\u001b[1;33m\u001b[0m\u001b[0m\n\u001b[1;32m-> 1086\u001b[1;33m         \u001b[0mblknos\u001b[0m \u001b[1;33m=\u001b[0m \u001b[0mself\u001b[0m\u001b[1;33m.\u001b[0m\u001b[0mblknos\u001b[0m\u001b[1;33m[\u001b[0m\u001b[0mloc\u001b[0m\u001b[1;33m]\u001b[0m\u001b[1;33m\u001b[0m\u001b[1;33m\u001b[0m\u001b[0m\n\u001b[0m\u001b[0;32m   1087\u001b[0m         \u001b[0mblklocs\u001b[0m \u001b[1;33m=\u001b[0m \u001b[0mself\u001b[0m\u001b[1;33m.\u001b[0m\u001b[0mblklocs\u001b[0m\u001b[1;33m[\u001b[0m\u001b[0mloc\u001b[0m\u001b[1;33m]\u001b[0m\u001b[1;33m.\u001b[0m\u001b[0mcopy\u001b[0m\u001b[1;33m(\u001b[0m\u001b[1;33m)\u001b[0m\u001b[1;33m\u001b[0m\u001b[1;33m\u001b[0m\u001b[0m\n\u001b[0;32m   1088\u001b[0m \u001b[1;33m\u001b[0m\u001b[0m\n",
      "\u001b[1;31mKeyboardInterrupt\u001b[0m: "
     ]
    }
   ],
   "source": [
    "#SMA, 20; >=-0.01\n",
    "\n",
    "start_time = datetime.datetime.now().time()\n",
    "print(start_time)\n",
    "\n",
    "tickers = ['SPY', 'AAPL', 'MSFT', 'PYPL', 'ISRG', 'GM', 'INTC', 'PANW']\n",
    "\n",
    "startd = datetime.datetime(2016, 1, 1) \n",
    "#endd_1 = datetime.datetime(2019, 1, 1)\n",
    "endd_2 = datetime.datetime(2020, 1, 1)\n",
    "df = data.DataReader(tickers, 'yahoo', startd, endd_2).reset_index()\n",
    "\n",
    "#Functions#\n",
    "def wwma(values, n):\n",
    "    return values.ewm(alpha=1/n, adjust=False).mean()\n",
    "\n",
    "def Atr(data, t , n):\n",
    "    high = data[('High', t)]\n",
    "    low = data[('Low', t)]\n",
    "    close = data[('Close', t)]\n",
    "    data[('Tr0', t)] = abs(high - low)\n",
    "    data[('Tr1', t)] = abs(high - close.shift())\n",
    "    data[('Tr2', t)] = abs(low - close.shift())\n",
    "    Tr = data[[('Tr0', t), ('Tr1', t), ('Tr2', t)]].max(axis=1)\n",
    "    Atr = wwma(Tr, n)\n",
    "    data[('Atr', t)] = Atr\n",
    "    Stoploss = data[('Close', t)] - (data[('Atr', t)] * 2)\n",
    "    return Stoploss \n",
    "#End Function#\n",
    "\n",
    "for t in tickers:\n",
    "    df[('Percent_return', t)] = df[('Close', t)].pct_change()\n",
    "    df[('SMA', t)] = df[('High', t)].rolling(30).mean()\n",
    "    df[('SMA_change', t)] = df[('SMA', t)].pct_change()\n",
    "    \n",
    "    df[('Stoploss', t)] = Atr(df, t ,len(df))\n",
    "    \n",
    "#   Do-untill code:  https://stackoverflow.com/questions/1662161/is-there-a-do-until-in-python\n",
    "    x=0\n",
    "    for i in df.index:\n",
    "        while True:\n",
    "            if df.loc[x:i, ('Atr', t)].max()<df.loc[i, ('Close', t)]:\n",
    "                df.loc[i+1, ('Strat', t)] = 1\n",
    "            if df.loc[x:i, ('Atr', t)].max()>=df.loc[i, ('Close', t)]:\n",
    "                df.loc[i+1, ('Strat', t)] = 0\n",
    "                x=i\n",
    "                break\n",
    "    \n",
    "    #for i in df.index:\n",
    "    #    if df.loc[i, ('Atr', t)]>df.loc[i, ('Close', t)]:\n",
    "    #        df.loc[i+1, ('Strat', t)] = 1\n",
    "    #    else:\n",
    "    #        df.loc[i+1, ('Strat', t)] = 0\n",
    "df[('Strat_return', 'Total')] = 0\n",
    "for t in tickers:\n",
    "    df[('Strat_return', t)] = df[('Strat', t)] * df[('Percent_return', t)]\n",
    "    df[('Strat_return', 'Total')] += df[('Strat_return', t)].cumsum()\n",
    "df = df.dropna()\n",
    "df = df.reset_index()\n",
    "\n",
    "\n",
    "for t in tickers:\n",
    "    fig, ax = plt.subplots(2, sharex=True, figsize=(10,5), gridspec_kw={'height_ratios':[2.5, 1], 'hspace':0.02})\n",
    "    ax[0].set_title(t)\n",
    "    #ax[0].plot(df[('Percent_return', t)], linewidth=0.5)\n",
    "    ax[0].plot(df[('Close', t)], linewidth=0.5)\n",
    "    ax[0].plot(df[('Stoploss', t)], linewidth=0.5)\n",
    "    ax[1].plot(df[('Strat', t)], linewidth=0.5)\n",
    "    #ax[0].plot(df[('Percent_return', t)].cumsum(), linewidth=1)\n",
    "    #ax[0].plot(df[('Strat_return', t)].cumsum(), linewidth=1, color='r')\n",
    "    \n",
    "\n",
    "end_time = datetime.datetime.now().time()\n",
    "print(f'Time when finished:                   {end_time}')"
   ]
  },
  {
   "cell_type": "markdown",
   "metadata": {},
   "source": [
    "# Achterhaalt"
   ]
  },
  {
   "cell_type": "code",
   "execution_count": 5,
   "metadata": {
    "scrolled": false
   },
   "outputs": [
    {
     "data": {
      "application/vnd.jupyter.widget-view+json": {
       "model_id": "2d22bc2ab9974e80be66f7210cf75436",
       "version_major": 2,
       "version_minor": 0
      },
      "text/plain": [
       "Canvas(toolbar=Toolbar(toolitems=[('Home', 'Reset original view', 'home', 'home'), ('Back', 'Back to previous …"
      ]
     },
     "metadata": {},
     "output_type": "display_data"
    },
    {
     "name": "stdout",
     "output_type": "stream",
     "text": [
      "0.7359970764658881\n",
      "0.2767154099351443\n"
     ]
    },
    {
     "data": {
      "application/vnd.jupyter.widget-view+json": {
       "model_id": "7735cad33eab4c869824bc947e983e53",
       "version_major": 2,
       "version_minor": 0
      },
      "text/plain": [
       "Canvas(toolbar=Toolbar(toolitems=[('Home', 'Reset original view', 'home', 'home'), ('Back', 'Back to previous …"
      ]
     },
     "metadata": {},
     "output_type": "display_data"
    },
    {
     "data": {
      "text/plain": [
       "[<matplotlib.lines.Line2D at 0x1a69dff4288>]"
      ]
     },
     "execution_count": 5,
     "metadata": {},
     "output_type": "execute_result"
    }
   ],
   "source": [
    "def polyfit_df(tickers, df):\n",
    "    dftemp = df.copy()\n",
    "    for t in tickers:\n",
    "        result = np.polyfit(dftemp[('Percent_return', t)].dropna().index, dftemp[('Percent_return', t)].dropna(), 100)\n",
    "        poly_eq = np.poly1d(result)\n",
    "        dftemp[('Polyfit', t)] = poly_eq(dftemp.index)\n",
    "    dftemp = dftemp.reset_index()\n",
    "    return dftemp\n",
    "\n",
    "dfpoly = polyfit_df(tickers, df)\n",
    "\n",
    "i_length = dfpoly.index\n",
    "for t in tickers:\n",
    "        for i in i_length:\n",
    "            if dfpoly.loc[i, ('Polyfit', t)]>=0:\n",
    "                dfpoly.loc[i+1, ('Strat_polyfit_6', t)] = 1\n",
    "            else:\n",
    "                dfpoly.loc[i+1, ('Strat_polyfit_6', t)] = 0   \n",
    "                \n",
    "for i in i_length:\n",
    "    for t in tickers:\n",
    "           df[('Percent_return_cumsum', t)] = df[('Percent_return', t)].cumsum()\n",
    "\n",
    "dfpoly[('Strat_polyfit_6_percent_return', t)] = 0\n",
    "for i in i_length:\n",
    "    for t in tickers:\n",
    "        dfpoly[('Strat_polyfit_6_percent_return', t)] = dfpoly[('Strat_polyfit_6', t)] * dfpoly[('Percent_return', t)]\n",
    "        dfpoly[('Strat_polyfit_6_percent_return', t)] = dfpoly[('Strat_polyfit_6_percent_return', t)].cumsum()\n",
    "\n",
    "plt.figure(figsize=(8,3))\n",
    "plt.plot(dfpoly[('Strat_polyfit_6_percent_return', 'INTC')])\n",
    "plt.plot(df[('Percent_return_cumsum', 'INTC')], color='r')\n",
    "print(dfpoly[('Strat_polyfit_6_percent_return', 'INTC')].iloc[-2])\n",
    "print(df[('Percent_return_cumsum', 'INTC')].iloc[-1])\n",
    "plt.figure(figsize=(8,3))\n",
    "plt.plot(dfpoly[('Polyfit', 'SPY')])"
   ]
  },
  {
   "cell_type": "code",
   "execution_count": 8,
   "metadata": {},
   "outputs": [
    {
     "name": "stdout",
     "output_type": "stream",
     "text": [
      "474\n",
      "486\n",
      "486\n",
      "494\n",
      "508\n",
      "514\n"
     ]
    },
    {
     "data": {
      "application/vnd.jupyter.widget-view+json": {
       "model_id": "e7daaad55c7f402aac060aa98767403b",
       "version_major": 2,
       "version_minor": 0
      },
      "text/plain": [
       "Canvas(toolbar=Toolbar(toolitems=[('Home', 'Reset original view', 'home', 'home'), ('Back', 'Back to previous …"
      ]
     },
     "metadata": {},
     "output_type": "display_data"
    }
   ],
   "source": [
    "print(len(dfpoly1))\n",
    "print(len(dfpoly3))\n",
    "print(len(dfpoly3))\n",
    "print(len(dfpoly4))\n",
    "print(len(dfpoly5))\n",
    "print(len(dfpoly6))\n",
    "plt.figure(figsize=(10,5))\n",
    "plt.plot(dfpoly1[('Polyfit', 'PANW')])\n",
    "plt.plot(dfpoly2[('Polyfit', 'PANW')].iloc[-10:])\n",
    "plt.plot(dfpoly3[('Polyfit', 'PANW')].iloc[474:])\n",
    "plt.plot(dfpoly4[('Polyfit', 'PANW')].iloc[474:])\n",
    "plt.plot(dfpoly5[('Polyfit', 'PANW')].iloc[486:])\n",
    "plt.plot(dfpoly6[('Polyfit', 'PANW')].iloc[504:])\n",
    "plt.plot(dfpoly6[('Polyfit', 'PANW')], color='black', linewidth=1)\n",
    "plt.grid()"
   ]
  }
 ],
 "metadata": {
  "kernelspec": {
   "display_name": "Python 3",
   "language": "python",
   "name": "python3"
  },
  "language_info": {
   "codemirror_mode": {
    "name": "ipython",
    "version": 3
   },
   "file_extension": ".py",
   "mimetype": "text/x-python",
   "name": "python",
   "nbconvert_exporter": "python",
   "pygments_lexer": "ipython3",
   "version": "3.7.9"
  }
 },
 "nbformat": 4,
 "nbformat_minor": 4
}
